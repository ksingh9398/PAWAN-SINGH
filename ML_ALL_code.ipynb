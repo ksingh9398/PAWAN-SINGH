{
 "cells": [
  {
   "cell_type": "code",
   "execution_count": null,
   "id": "d18202b5",
   "metadata": {},
   "outputs": [],
   "source": [
    "For Makeing Table"
   ]
  },
  {
   "cell_type": "code",
   "execution_count": null,
   "id": "c519019b",
   "metadata": {},
   "outputs": [],
   "source": [
    "<table>\n",
    "<tr><th>Features</th><th>Description</th></tr>\n",
    "<tr><td>‘Unamed: 0’</td><td>Its just a useless index feature that will be removed later</td></tr>\n",
    "<tr><td>‘Total Volume’</td><td>Total sales volume of avocados</td></tr>\n",
    "<tr><td>‘4046’</td><td>Total sales volume of  Small/Medium Hass Avocado</td></tr>\n",
    "<tr><td>‘4225’</td><td>Total sales volume of Large Hass Avocado</td></tr>\n",
    "<tr><td>‘4770’</td><td>Total sales volume of Extra Large Hass Avocado</td></tr>\n",
    "<tr><td>‘Total Bags’</td><td>Total number of Bags sold</td></tr>\n",
    "<tr><td>‘Small Bags’</td><td>Total number of Small Bags sold</td></tr>\n",
    "<tr><td>‘Large Bags’</td><td>Total number of Large Bags sold</td></tr>\n",
    "<tr><td>‘XLarge Bags’</td><td>Total number of XLarge Bags sold</td></tr>\n",
    "</table>"
   ]
  },
  {
   "cell_type": "code",
   "execution_count": null,
   "id": "fb5fd018",
   "metadata": {},
   "outputs": [],
   "source": [
    "# Darow a Georaphical Graph\n",
    "fig = px.density_mapbox(df, lat='lat', lon='lon', z='Present_Tmax', hover_data=['LDAPS_RHmin', 'LDAPS_RHmax'],\n",
    "                        \n",
    "                        mapbox_style=\"stamen-terrain\", template = 'plotly_dark', title = 'Maximum Temperature on Lat Long')\n",
    "fig.show()"
   ]
  },
  {
   "cell_type": "code",
   "execution_count": null,
   "id": "66fee9d0",
   "metadata": {},
   "outputs": [],
   "source": [
    "https://www.kaggle.com/code/d4rklucif3r/seoul-temp-pred-deployments-luciferml-95"
   ]
  },
  {
   "cell_type": "code",
   "execution_count": null,
   "id": "16cf0290",
   "metadata": {},
   "outputs": [],
   "source": [
    "# Upgrade any library\n",
    "import pip\n",
    "pip.main(['install', '--upgrade', 'luciferml'])"
   ]
  },
  {
   "cell_type": "code",
   "execution_count": null,
   "id": "d2084d7c",
   "metadata": {},
   "outputs": [],
   "source": [
    "## Table of Contents\n",
    "\n",
    "* [Problem Statement](#section1)<br>\n",
    "* [Data Loading and Description](#section2)"
   ]
  },
  {
   "cell_type": "code",
   "execution_count": null,
   "id": "3bc2d36b",
   "metadata": {},
   "outputs": [],
   "source": [
    "# checking the columns names in this dataset in list format \n",
    "df.columns.tolist()"
   ]
  },
  {
   "cell_type": "code",
   "execution_count": null,
   "id": "6f5ecb6b",
   "metadata": {},
   "outputs": [],
   "source": [
    "# for checking the value cont of each column\n",
    "for i in df.columns:\n",
    "    print(df[i].value_counts())\n",
    "    print(\"\\n\")"
   ]
  },
  {
   "cell_type": "code",
   "execution_count": null,
   "id": "44081ede",
   "metadata": {},
   "outputs": [],
   "source": []
  },
  {
   "cell_type": "code",
   "execution_count": null,
   "id": "1de25d88",
   "metadata": {},
   "outputs": [],
   "source": [
    "df[\"TotalCharges\"]= pd.to_numeric(df[\"TotalCharges\"], errors='coerce')\n",
    "# converting object datatpye to float datatype\n",
    "df['TotalCharges']=df['TotalCharges'].astype(float)\n",
    "df['TotalCharges'].dtype"
   ]
  },
  {
   "cell_type": "code",
   "execution_count": null,
   "id": "bbff49c9",
   "metadata": {},
   "outputs": [],
   "source": [
    "# Replace . value to NaN values\n",
    "df['TotalCharges']= df['TotalCharges'].replace(\".\",np.nan)\n",
    "df['TotalCharges'].value_counts()"
   ]
  },
  {
   "cell_type": "code",
   "execution_count": null,
   "id": "8aeb3b97",
   "metadata": {},
   "outputs": [],
   "source": []
  },
  {
   "cell_type": "code",
   "execution_count": null,
   "id": "85d313bb",
   "metadata": {},
   "outputs": [],
   "source": [
    "# Find Mean values of Column\n",
    "np.mean(df['TotalCharges'])"
   ]
  },
  {
   "cell_type": "code",
   "execution_count": null,
   "id": "10aec0f0",
   "metadata": {},
   "outputs": [],
   "source": [
    "# Checking the mean of Total Charges column\n",
    "print('The mean value of TotalCharges is :',df['TotalCharges'].mean())"
   ]
  },
  {
   "cell_type": "code",
   "execution_count": null,
   "id": "f23dc87f",
   "metadata": {},
   "outputs": [],
   "source": [
    "# Filling null values in TdotalCharges with its mean\n",
    "df[\"TotalCharges\"]=df['TotalCharges'].fillna(df['TotalCharges'].mean())"
   ]
  },
  {
   "cell_type": "code",
   "execution_count": null,
   "id": "4a5e05c7",
   "metadata": {},
   "outputs": [],
   "source": [
    "# Firstly i am droping the null data\n",
    "\n",
    "df = df.dropna().reset_index()"
   ]
  },
  {
   "cell_type": "code",
   "execution_count": null,
   "id": "4b2679ac",
   "metadata": {},
   "outputs": [],
   "source": [
    "# Iloc Function \n",
    "df.iloc[488,:]"
   ]
  },
  {
   "cell_type": "code",
   "execution_count": null,
   "id": "15502e23",
   "metadata": {},
   "outputs": [],
   "source": []
  },
  {
   "cell_type": "code",
   "execution_count": null,
   "id": "f923f73a",
   "metadata": {},
   "outputs": [],
   "source": []
  },
  {
   "cell_type": "code",
   "execution_count": null,
   "id": "fd4b9d82",
   "metadata": {},
   "outputs": [],
   "source": [
    "![lib.jpg](attachment:lib.jpg)"
   ]
  },
  {
   "cell_type": "code",
   "execution_count": null,
   "id": "494705a3",
   "metadata": {},
   "outputs": [],
   "source": [
    "import klib\n",
    "klib.cat_plot(df)\n",
    "klib.corr_mat(df)\n",
    "klib.corr_plot(df)\n",
    "klib.dist_plot(df)\n",
    "klib.missingval_plot(df)"
   ]
  },
  {
   "cell_type": "code",
   "execution_count": null,
   "id": "ea511971",
   "metadata": {},
   "outputs": [],
   "source": [
    "# seprating Numericaal and categorical columns\n",
    "\n",
    "# checking for categorical columns \n",
    "categorical_col=[]\n",
    "for i in df.dtypes.index:\n",
    "    if df.dtypes[i]=='object':\n",
    "        categorical_col.append(i)\n",
    "        \n",
    "print(\"Categorical Columns:\", categorical_col)\n",
    "print('\\n')\n",
    "\n",
    "\n",
    "# Checking for Numeircal columns\n",
    "numerical_col=[]\n",
    "for i in df.dtypes.index:\n",
    "    if df.dtypes[i]!='object':\n",
    "        numerical_col.append(i)\n",
    "        \n",
    "print('Numerical Columns:',numerical_col)"
   ]
  },
  {
   "cell_type": "code",
   "execution_count": null,
   "id": "b58e8fec",
   "metadata": {},
   "outputs": [],
   "source": []
  },
  {
   "cell_type": "code",
   "execution_count": null,
   "id": "856e48c5",
   "metadata": {},
   "outputs": [],
   "source": [
    "# Checking numberof unique values in each column\n",
    "df.nunique().to_frame('No. of unique values')"
   ]
  },
  {
   "cell_type": "code",
   "execution_count": null,
   "id": "8d424edc",
   "metadata": {},
   "outputs": [],
   "source": [
    "# droping customerid column  (Remove)\n",
    "df.drop('customerID',axis=1, inplace=True)"
   ]
  },
  {
   "cell_type": "code",
   "execution_count": null,
   "id": "b3c1115e",
   "metadata": {},
   "outputs": [],
   "source": []
  },
  {
   "cell_type": "code",
   "execution_count": null,
   "id": "804238f1",
   "metadata": {},
   "outputs": [],
   "source": [
    "# Encoding categorical columns using OrdinalEncoder\n",
    "from sklearn.preprocessing import OrdinalEncoder\n",
    "OE=OrdinalEncoder()\n",
    "for i in df.columns:\n",
    "    if df[i].dtypes=='object':\n",
    "        df[i]=OE.fit_transform(df[i].values.reshape(-1,1))\n",
    "df"
   ]
  },
  {
   "cell_type": "code",
   "execution_count": null,
   "id": "b471fe17",
   "metadata": {},
   "outputs": [],
   "source": [
    "### Assign the string value to numerical values\n",
    "df['species'].map({'versicolor':0,'virginica':1})"
   ]
  },
  {
   "cell_type": "code",
   "execution_count": null,
   "id": "8782c709",
   "metadata": {},
   "outputs": [],
   "source": [
    "# Separating Features and lable\n",
    "x=df.drop('Churn',axis=1)\n",
    "y=df['Churn']"
   ]
  },
  {
   "cell_type": "code",
   "execution_count": null,
   "id": "84d8f14c",
   "metadata": {},
   "outputs": [],
   "source": [
    "# More Then 12 Columns\n",
    "Import this Library \n",
    "\n",
    "import threadpoolctl"
   ]
  },
  {
   "cell_type": "code",
   "execution_count": null,
   "id": "4f8f14f1",
   "metadata": {},
   "outputs": [],
   "source": []
  },
  {
   "cell_type": "code",
   "execution_count": null,
   "id": "d0c081f6",
   "metadata": {},
   "outputs": [],
   "source": [
    "# Save image \n",
    "plt.savefig('multi1.png')"
   ]
  },
  {
   "cell_type": "code",
   "execution_count": null,
   "id": "ebca1b25",
   "metadata": {},
   "outputs": [],
   "source": [
    "# Spacial Library (Tree Map)\n",
    "# Creating a Treemap for 'Race'\n",
    "import squarify\n",
    "race = df['Race'].value_counts()\n",
    "\n",
    "plt.style.use('default')\n",
    "plt.figure(figsize=(7, 5))\n",
    "squarify.plot(sizes=race.values, label=race.index, value=race.values)\n",
    "plt.title('Race distribution', fontdict={\n",
    "          'fontname': 'Monospace', 'fontsize': 20, 'fontweight': 'bold'})\n",
    "plt.show()"
   ]
  },
  {
   "cell_type": "code",
   "execution_count": null,
   "id": "88856545",
   "metadata": {},
   "outputs": [],
   "source": [
    "# For count plot"
   ]
  },
  {
   "cell_type": "code",
   "execution_count": null,
   "id": "ac639c1b",
   "metadata": {},
   "outputs": [],
   "source": [
    "cat_df=df.select_dtypes(include='object')\n",
    "\n",
    "for i in cat_df:\n",
    "    plt.figure(figsize=(15, 15))\n",
    "    sns.catplot(data=df,x=i,kind='count')"
   ]
  },
  {
   "cell_type": "code",
   "execution_count": null,
   "id": "ba70874c",
   "metadata": {},
   "outputs": [],
   "source": []
  },
  {
   "cell_type": "code",
   "execution_count": null,
   "id": "34e8ecb8",
   "metadata": {},
   "outputs": [],
   "source": [
    "# for pie plot"
   ]
  },
  {
   "cell_type": "code",
   "execution_count": null,
   "id": "8a42a50d",
   "metadata": {},
   "outputs": [],
   "source": [
    "print(df['Region'].nunique())\n",
    "df['Region'].value_counts().plot(kind='pie',autopct='%.2f')"
   ]
  },
  {
   "cell_type": "code",
   "execution_count": null,
   "id": "1cd9eb21",
   "metadata": {},
   "outputs": [],
   "source": []
  },
  {
   "cell_type": "code",
   "execution_count": null,
   "id": "c5a7031b",
   "metadata": {},
   "outputs": [],
   "source": [
    "# for remove outliers "
   ]
  },
  {
   "cell_type": "code",
   "execution_count": null,
   "id": "3e8c8587",
   "metadata": {},
   "outputs": [],
   "source": [
    "from scipy.stats import zscore\n",
    "out_features=df[['Open','High','Low','Volume']]\n",
    "z=np.abs(zscore(out_features))\n",
    "z"
   ]
  },
  {
   "cell_type": "code",
   "execution_count": null,
   "id": "07c05db4",
   "metadata": {},
   "outputs": [],
   "source": [
    "thereshold=3\n",
    "np.where(z>3)"
   ]
  },
  {
   "cell_type": "code",
   "execution_count": null,
   "id": "10a8c701",
   "metadata": {},
   "outputs": [],
   "source": [
    "# Now removing the data above  Zscore and creating ne DF\n",
    "df1=df[(z<3).all(axis=1)]"
   ]
  },
  {
   "cell_type": "code",
   "execution_count": null,
   "id": "14b3a288",
   "metadata": {},
   "outputs": [],
   "source": []
  },
  {
   "cell_type": "code",
   "execution_count": null,
   "id": "54d0702a",
   "metadata": {},
   "outputs": [],
   "source": [
    "# Z- score\n",
    "outliers=[]\n",
    "def detect_outliers(data):\n",
    "    threshold=3 # 3rd standard deviation \n",
    "    mean=np.mean(data)\n",
    "    std=np.std(data)\n",
    "    \n",
    "    for i in data:\n",
    "        z_score=(i-mean)/std\n",
    "        if np.abs(z_score)>threshold:\n",
    "            outliers.append(i)\n",
    "    return outliers\n",
    "   \n",
    "detect_outliers(dataset) # dataset is our actual data"
   ]
  },
  {
   "cell_type": "code",
   "execution_count": null,
   "id": "cb955dbd",
   "metadata": {},
   "outputs": [],
   "source": [
    "print('Outliers = ')\n",
    "detect_outliers(dataset)"
   ]
  },
  {
   "cell_type": "code",
   "execution_count": null,
   "id": "7e4397fe",
   "metadata": {},
   "outputs": [],
   "source": [
    "# Find Outliers By IQR Methods \n",
    "q1,q3=np.percentile(dataset,[25,75])\n",
    "print('Q1= ',q1, ', Q3= ',q3)\n",
    "\n",
    "# Find IQR Range\n",
    "iqr=q3-q1\n",
    "print('IQR range = ',iqr)\n",
    "\n",
    "# Find the upper and lower fence\n",
    "lower_fence=q1-(1.5*iqr)\n",
    "upper_fence=q3+(1.5*iqr)\n",
    "\n",
    "print('Lower fence= ' ,lower_fence)\n",
    "print('Upper fence= ',upper_fence)\n",
    "\n",
    "\n",
    "outliers=[]\n",
    "normal=[]\n",
    "for i in dataset:\n",
    "    if (i > upper_fence or i < lower_fence):\n",
    "        outliers.append(i)\n",
    "    else:\n",
    "        normal.append(i)\n",
    "\n",
    "print('OUTLIERS= ', outliers)        \n",
    "print('NORMAL DATA=',normal)"
   ]
  },
  {
   "cell_type": "code",
   "execution_count": null,
   "id": "65ca2877",
   "metadata": {},
   "outputs": [],
   "source": [
    "# Find the Loss Percentage "
   ]
  },
  {
   "cell_type": "code",
   "execution_count": null,
   "id": "97326d4c",
   "metadata": {},
   "outputs": [],
   "source": [
    "# Checking Percentage how many % of data are removed\n",
    "print('Data Loss Precentage-',((df.shape[0]-newdf.shape[0])/df.shape[0])*100 )"
   ]
  },
  {
   "cell_type": "code",
   "execution_count": null,
   "id": "d4d9a51a",
   "metadata": {},
   "outputs": [],
   "source": []
  },
  {
   "cell_type": "code",
   "execution_count": null,
   "id": "e7be4289",
   "metadata": {},
   "outputs": [],
   "source": [
    "# For More then 12 columns \n",
    "import threadpoolctl"
   ]
  },
  {
   "cell_type": "code",
   "execution_count": null,
   "id": "066d8c9c",
   "metadata": {},
   "outputs": [],
   "source": [
    "# Removing skewness using cuberoot method\n",
    "df['TotalCharges']=np.cbrt(df['TotalCharges'])"
   ]
  },
  {
   "cell_type": "code",
   "execution_count": null,
   "id": "65d4ea15",
   "metadata": {},
   "outputs": [],
   "source": [
    "# Checking the null values\n",
    "df.isnull().sum()"
   ]
  },
  {
   "cell_type": "code",
   "execution_count": null,
   "id": "f0802ca4",
   "metadata": {},
   "outputs": [],
   "source": []
  },
  {
   "cell_type": "code",
   "execution_count": null,
   "id": "34bdcf7a",
   "metadata": {},
   "outputs": [],
   "source": [
    "# Checking number of unique values in each column\n",
    "df.nunique().to_frame(\"No. of unique values\")"
   ]
  },
  {
   "cell_type": "code",
   "execution_count": null,
   "id": "15ef4bf8",
   "metadata": {},
   "outputs": [],
   "source": [
    "# Checking the value counts of each column \n",
    "for i in df.columns:\n",
    "    print(df[i].value_counts())\n",
    "    print(\"\\n\")"
   ]
  },
  {
   "cell_type": "code",
   "execution_count": null,
   "id": "b27c6023",
   "metadata": {},
   "outputs": [],
   "source": [
    "# Descriptive Graph\n",
    "plt.figure(figsize=(22,10))\n",
    "sns.heatmap(df.describe(),annot=True, fmt='0.2f',linewidth=0.2,linecolor='black',cmap='Spectral')\n",
    "plt.xlabel('Figure',fontsize=14)\n",
    "plt.ylabel('Features_Name',fontsize=14)\n",
    "plt.title('Descriptive Graph ', fontsize=20)\n",
    "plt.show()"
   ]
  },
  {
   "cell_type": "code",
   "execution_count": null,
   "id": "7c99efba",
   "metadata": {},
   "outputs": [],
   "source": []
  },
  {
   "cell_type": "code",
   "execution_count": null,
   "id": "c9b62ce8",
   "metadata": {},
   "outputs": [],
   "source": [
    "# Subplot\n",
    "plt.figure(figsize=(20,25))\n",
    "p=1\n",
    "for i in df:\n",
    "    if p<=17:\n",
    "        plt.subplot(5,4,p)\n",
    "        sns.scatterplot(x='Close',y=i,data=df,color='r')\n",
    "        plt.xlabel('Close')\n",
    "        plt.ylabel('i')\n",
    "    p+=1\n",
    "    \n",
    "plt.show()"
   ]
  },
  {
   "cell_type": "code",
   "execution_count": null,
   "id": "64116119",
   "metadata": {},
   "outputs": [],
   "source": []
  },
  {
   "cell_type": "code",
   "execution_count": null,
   "id": "13b29ff9",
   "metadata": {},
   "outputs": [],
   "source": [
    "## Lets check the outliers of all columns by plotting boxplot \n",
    "plt.figure(figsize=(20,25))\n",
    "p=1\n",
    "for i in df:\n",
    "    if p<=13:\n",
    "        plt.subplot(5,4,p)\n",
    "        sns.boxplot(df[i], palette='Set2_r')\n",
    "        plt.xlabel(i)\n",
    "        \n",
    "    p+=1\n",
    "plt.show()"
   ]
  },
  {
   "cell_type": "code",
   "execution_count": null,
   "id": "470da60e",
   "metadata": {},
   "outputs": [],
   "source": [
    "# Remove Outliers\n",
    "from scipy.stats import zscore\n",
    "out_features=df[['Open','High','Low','Volume']]\n",
    "z=np.abs(zscore(out_features))\n",
    "z"
   ]
  },
  {
   "cell_type": "code",
   "execution_count": null,
   "id": "a5da8fca",
   "metadata": {},
   "outputs": [],
   "source": [
    "# thereshold=3\n",
    "np.where(z>3)"
   ]
  },
  {
   "cell_type": "code",
   "execution_count": null,
   "id": "488c6f7b",
   "metadata": {},
   "outputs": [],
   "source": []
  },
  {
   "cell_type": "code",
   "execution_count": null,
   "id": "70ff2087",
   "metadata": {},
   "outputs": [],
   "source": [
    "# Removing Outliers by the IQR Methods\n",
    "# 1st Quantile\n",
    "Q1=out_features.quantile(0.25)\n",
    "​\n",
    "# 3rd Quantile\n",
    "Q3=out_features.quantile(0.75)\n",
    "# IQR \n",
    "IQR= Q3 - Q1\n",
    "df2=[~((df < (Q1-1.5 * IQR))|(df> (Q3+ 1.5 * IQR))).any(axis=1)]"
   ]
  },
  {
   "cell_type": "code",
   "execution_count": null,
   "id": "9893be40",
   "metadata": {},
   "outputs": [],
   "source": [
    "# Encoding categorical columns\n",
    "# Encoding categorical columns using OrdinalEncoder\n",
    "import sklearn\n",
    "from sklearn.preprocessing import OrdinalEncoder\n",
    "OE=OrdinalEncoder()\n",
    "for i in df.columns:\n",
    "    if df[i].dtypes=='object':\n",
    "        df[i]=OE.fit_transform(df[i].values.reshape(-1,1))\n",
    "df"
   ]
  },
  {
   "cell_type": "code",
   "execution_count": null,
   "id": "c400b7e6",
   "metadata": {},
   "outputs": [],
   "source": [
    "# Removing skewness using cuberoot method \n",
    "df['Volume']=np. cbrt(df['Volume'])"
   ]
  },
  {
   "cell_type": "code",
   "execution_count": null,
   "id": "9b9c1c67",
   "metadata": {},
   "outputs": [],
   "source": [
    "# Lets visulize how the data has been distributed in volume after removing skewness\n",
    "sns.distplot(df['Volume'],color='m',kde_kws={'shade':True},hist=False)\n",
    "plt.show()"
   ]
  },
  {
   "cell_type": "code",
   "execution_count": null,
   "id": "224d2dcb",
   "metadata": {},
   "outputs": [],
   "source": [
    "# importing necessary libraies:\n",
    "import sklearn\n",
    "from sklearn.model_selection import train_test_split\n",
    "from sklearn.metrics import mean_absolute_error\n",
    "from sklearn.metrics import mean_squared_error,confusion_matrix,classification_report\n",
    "from sklearn.metrics import r2_score\n",
    "from sklearn.ensemble import GradientBoostingRegressor\n",
    "from sklearn.linear_model import LinearRegression\n",
    "#\n",
    "from sklearn.linear_model import LinearRegression\n",
    "from sklearn.ensemble import RandomForestRegressor\n",
    "from sklearn.tree import DecisionTreeRegressor\n",
    "from sklearn.neighbors import KNeighborsRegressor as KNN\n",
    "from sklearn.linear_model import Lasso,Ridge"
   ]
  },
  {
   "cell_type": "code",
   "execution_count": null,
   "id": "18ea9188",
   "metadata": {},
   "outputs": [],
   "source": [
    "# create Train Test Split\n",
    "x_train,x_test,y_train,y_test=train_test_split(x,y, test_size=0.30, random_state=maxRS)"
   ]
  },
  {
   "cell_type": "code",
   "execution_count": null,
   "id": "165a3d37",
   "metadata": {},
   "outputs": [],
   "source": []
  },
  {
   "cell_type": "code",
   "execution_count": null,
   "id": "dd35b9f2",
   "metadata": {},
   "outputs": [],
   "source": [
    "# Check Score of our Module \n",
    "# Linear Regression\n",
    "LR=LinearRegression()\n",
    "LR.fit(x_train,y_train)\n",
    "pred_LR=LR.predict(x_train)\n",
    "pred_train=LR.predict(x_train)\n",
    "print('R2_score:', r2_score(y_test,pred_LR))\n",
    "print('R2_score on training Data: ', r2_score(y_train,pred_train)*100)\n",
    "print('Mean Absolute Error:- ', mean_absolute_error(y_test,pred_LR))\n",
    "print('Mean Squared Error:- ', mean_squared_error(y_test,pred_LR))\n",
    "print('Root Mean Squared Error:-', np.sqrt(mean_squared_error(y_test,pred_LR)))"
   ]
  },
  {
   "cell_type": "code",
   "execution_count": null,
   "id": "4a4e5837",
   "metadata": {},
   "outputs": [],
   "source": []
  },
  {
   "cell_type": "code",
   "execution_count": null,
   "id": "39bc2289",
   "metadata": {},
   "outputs": [],
   "source": [
    "# Random Forest Regressor\n",
    "RFR=RandomForestRegressor()\n",
    "RFR.fit(x_train,y_train)\n",
    "pred_RFR=RFR.predict(x_test)\n",
    "pred_train=RFR.predict(x_train)\n",
    "\n",
    "print('R2_score: ', r2_score(y_test,pred_RFR))\n",
    "print('R2_score on training Date: ', r2_score(y_train,pred_train)*100)\n",
    "print('Mean Absolute Error: ', mean_absolute_error(y_test,pred_RFR))\n",
    "print('Mean Squared Error: ', mean_squared_error(y_test, pred_RFR))\n",
    "print('Rooot Mean Swuared Error: ', np.sqrt(mean_squared_error(y_test,pred_RFR)))"
   ]
  },
  {
   "cell_type": "code",
   "execution_count": null,
   "id": "78378f3e",
   "metadata": {},
   "outputs": [],
   "source": [
    "# KNN\n",
    "knn=KNN()\n",
    "knn.fit(x_train,y_train)\n",
    "pred_knn=knn.predict(x_test)\n",
    "pred_train=knn.predict(x_train)\n",
    "print('R2_score: ',r2_score(y_test,pred_knn))\n",
    "print('R2_score on training Data: ', r2_score(y_train,pred_train)*100)\n",
    "print('Mean Absolute Error: ', mean_absolute_error(y_test,pred_knn))\n",
    "print('Mean Squared Error: ', mean_squared_error(y_test,pred_knn))\n",
    "print('Root Mean Squared Error: ', np.sqrt(mean_squared_error(y_test,pred_knn)))"
   ]
  },
  {
   "cell_type": "code",
   "execution_count": null,
   "id": "a64aa7f7",
   "metadata": {},
   "outputs": [],
   "source": [
    "# Gradient Boosting Regressor\n",
    "GBR=GradientBoostingRegressor()\n",
    "GBR.fit(x_train,y_train)\n",
    "pred_GBR=GBR.predict(x_test)\n",
    "pred_train=GBR.predict(x_train)\n",
    "​\n",
    "print('R2_score: ', r2_score(y_test,pred_GBR))\n",
    "print('R2_score on training Date: ', r2_score(y_train,pred_train)*100)\n",
    "print('Mean Absolute Error : ', mean_absolute_error(y_test,pred_GBR))\n",
    "print('Mean Squared Error :  ',mean_squared_error(y_test,pred_GBR))\n",
    "print('Root Mean Squared Error :',np.sqrt(mean_squared_error(y_test,pred_GBR)))"
   ]
  },
  {
   "cell_type": "code",
   "execution_count": null,
   "id": "3d6a4e4a",
   "metadata": {},
   "outputs": [],
   "source": [
    "# Lasso\n",
    "lasso=Lasso()\n",
    "lasso.fit(x_train,y_train)\n",
    "pred_lasso=lasso.predict(x_test)\n",
    "pred_train=lasso.predict(x_train)\n",
    "print('R2_score : ', r2_score(y_test,pred_lasso))\n",
    "print('R2_score on training Date : ', r2_score(y_train,pred_train)*100)\n",
    "print('Mean  Absolute Error : ', mean_absolute_error(y_test,pred_lasso))\n",
    "print('Mean Squared Error : ', mean_squared_error(y_test,pred_lasso))\n",
    "print('Root Mean Squared Error : ', np.sqrt(mean_squared_error(y_test,pred_lasso)))"
   ]
  },
  {
   "cell_type": "code",
   "execution_count": null,
   "id": "04fdb852",
   "metadata": {},
   "outputs": [],
   "source": [
    "# Ridge Regessior\n",
    "rd=Ridge()\n",
    "rd.fit(x_train,y_train)\n",
    "pred_ridge=rd.predict(x_test)\n",
    "pred_train=rd.predict(x_train)\n",
    "​\n",
    "print('R2_score : ', r2_score(y_test,pred_ridge))\n",
    "print('R2_score on training Data- :', r2_score(y_train,pred_train)*100)\n",
    "print('Mean Absolute Error : ', mean_absolute_error(y_test,pred_ridge))\n",
    "print('Mean Squared Error : ', mean_squared_error(y_test,pred_ridge))\n",
    "print('Root Mean Squared Error: ', np.sqrt(mean_squared_error(y_test,pred_ridge)))\n",
    "​"
   ]
  },
  {
   "cell_type": "code",
   "execution_count": null,
   "id": "d8d68c30",
   "metadata": {},
   "outputs": [],
   "source": [
    "# Decision Tree Regressor\n",
    "from sklearn.tree import DecisionTreeRegressor\n",
    "dtr=DecisionTreeRegressor()\n",
    "dtr.fit(x_train,y_train)\n",
    "pred_DTR=dtr.predict(x_test)\n",
    "pred_train=dtr.predict(x_train)\n",
    "\n",
    "print('R2_score : ', r2_score(y_test,pred_DTR))\n",
    "print('R2_score on training Data : ', r2_score(y_train,pred_train)*100)\n",
    "print('Mean Absolute Error : ', mean_absolute_error(y_test,pred_DTR))\n",
    "print('Mean Squared Error : ', mean_squared_error(y_test,pred_DTR))\n",
    "print('Root Mean Squared Error : ', np.sqrt(mean_squared_error(y_test,pred_DTR)))"
   ]
  },
  {
   "cell_type": "code",
   "execution_count": null,
   "id": "20e36b54",
   "metadata": {},
   "outputs": [],
   "source": [
    "# SVR\n",
    "from sklearn.svm import SVR\n",
    "svr=SVR()\n",
    "svr.fit(x_train,y_train)\n",
    "pred_SVR=svr.predict(x_test)\n",
    "pred_train=svr.predict(x_train)\n",
    "​\n",
    "print('R2_score: ', r2_score(y_test,pred_SVR))\n",
    "print('R2_score on training DATA : ', r2_score(y_train,pred_train)*100)\n",
    "print('Mean Absolute Error : ', mean_absolute_error(y_test,pred_SVR))\n",
    "print('Mean Squared Error : ', mean_squared_error(y_test,pred_SVR))\n",
    "print('Root Mean Squared Error : ', np.sqrt(mean_squared_error(y_test,pred_SVR)))"
   ]
  },
  {
   "cell_type": "code",
   "execution_count": null,
   "id": "15b22434",
   "metadata": {},
   "outputs": [],
   "source": [
    "# Extra Tree Regressor\n",
    "from sklearn.ensemble import ExtraTreesRegressor\n",
    "etr=ExtraTreesRegressor()\n",
    "etr.fit(x_train,y_train)\n",
    "pred_ETR=etr.predict(x_test)\n",
    "pred_train=etr.predict(x_train)\n",
    "​\n",
    "print('R2_score : ', r2_score(y_test,pred_ETR))\n",
    "print('r2_scorn on training DATA : ', r2_score(y_train,pred_train)*100)\n",
    "print('Mean Absolute Error : ', mean_absolute_error(y_test,pred_ETR))\n",
    "print('Mean Squared Error : ', mean_squared_error(y_test,pred_ETR))\n",
    "print('Rooot Mean Squared Error: ', np.sqrt(mean_squared_error(y_test,pred_ETR) ))"
   ]
  },
  {
   "cell_type": "code",
   "execution_count": null,
   "id": "4c743610",
   "metadata": {},
   "outputs": [],
   "source": [
    "# Check Cross validation \n",
    "from sklearn.model_selection import cross_val_score"
   ]
  },
  {
   "cell_type": "code",
   "execution_count": null,
   "id": "1f48b519",
   "metadata": {},
   "outputs": [],
   "source": [
    "# Cross validation score of KNN algorithm \n",
    "score2=cross_val_score(knn,x,y)\n",
    "print(score2)\n",
    "print(score2.mean())\n",
    "print('Difference between R2 scored and cross validation score is ', (r2_score(y_test,pred_knn) - score2.mean())*100)"
   ]
  },
  {
   "cell_type": "code",
   "execution_count": null,
   "id": "0924f181",
   "metadata": {},
   "outputs": [],
   "source": [
    "# Cross validation score of GBR algorithem \n",
    "score3=cross_val_score(GBR,x,y)\n",
    "print(score3)\n",
    "print(score3.mean())\n",
    "print('Difference between R2 score and cross validation score is - ', (r2_score(y_test,pred_GBR)- score3.mean())*100)"
   ]
  },
  {
   "cell_type": "code",
   "execution_count": null,
   "id": "7227d2b6",
   "metadata": {},
   "outputs": [],
   "source": []
  },
  {
   "cell_type": "code",
   "execution_count": null,
   "id": "36658e1d",
   "metadata": {},
   "outputs": [],
   "source": [
    "# Classification Algorithms\n",
    "from sklearn.ensemble import RandomForestClassifier,ExtraTreesClassifier\n",
    "from sklearn.linear_model import LogisticRegression\n",
    "from sklearn.svm import SVC\n",
    "from sklearn.ensemble import GradientBoostingClassifier,AdaBoostClassifier,BaggingClassifier\n",
    "from sklearn.metrics import classification_report, confusion_matrix, roc_curve,accuracy_score\n",
    "from sklearn.model_selection import cross_val_score\n"
   ]
  },
  {
   "cell_type": "code",
   "execution_count": null,
   "id": "81841df3",
   "metadata": {},
   "outputs": [],
   "source": []
  },
  {
   "cell_type": "code",
   "execution_count": null,
   "id": "def35942",
   "metadata": {},
   "outputs": [],
   "source": [
    "# RandomForestClassifier\n",
    "# Checking accuracy for RandomForestClasifier\n",
    "RFC= RandomForestClassifier()\n",
    "RFC.fit(x_train,y_train)\n",
    "predRFC=RFC.predict(x_test)\n",
    "print(accuracy_score(y_test, predRFC))\n",
    "print(confusion_matrix(y_test,predRFC))\n",
    "print(classification_report(y_test,predRFC))"
   ]
  },
  {
   "cell_type": "code",
   "execution_count": null,
   "id": "f65aeb53",
   "metadata": {},
   "outputs": [],
   "source": []
  },
  {
   "cell_type": "code",
   "execution_count": null,
   "id": "73ae60eb",
   "metadata": {},
   "outputs": [],
   "source": [
    "# Logistic Regression\n",
    "# Checking accuracy for LogisticRegression\n",
    "LR=LogisticRegression()\n",
    "LR.fit(x_train,y_train)\n",
    "predLR=LR.predict(x_test)\n",
    "print('Accuracy Score:',accuracy_score(y_test,predLR))\n",
    "print(accuracy_score(y_test,predLR))\n",
    "print(confusion_matrix(y_test,predLR))\n",
    "print(classification_report(y_test,predLR))"
   ]
  },
  {
   "cell_type": "code",
   "execution_count": null,
   "id": "9d3b2395",
   "metadata": {},
   "outputs": [],
   "source": [
    "# Suport Vector Machine Classifier\n",
    "# Checking accuracy for Suport Vector Machine Classifier\n",
    "svc=SVC()\n",
    "svc.fit(x_train,y_train)\n",
    "predsvc=svc.predict(x_test)\n",
    "print(accuracy_score(y_test,predsvc))\n",
    "print(confusion_matrix(y_test,predsvc))\n",
    "print(classification_report(y_test,predsvc))"
   ]
  },
  {
   "cell_type": "code",
   "execution_count": null,
   "id": "12e80a68",
   "metadata": {},
   "outputs": [],
   "source": []
  },
  {
   "cell_type": "code",
   "execution_count": null,
   "id": "afa09a3d",
   "metadata": {},
   "outputs": [],
   "source": [
    "# Gradient Boosting Classifier\n",
    "# Checking accuracy for Gradient Boosting Classifier\n",
    "GB=GradientBoostingClassifier()\n",
    "GB.fit(x_train,y_train)\n",
    "predGB=GB.predict(x_test)\n",
    "print(accuracy_score(y_test,predGB))\n",
    "print(confusion_matrix(y_test,predGB))\n",
    "print(classification_report(y_test,predGB))"
   ]
  },
  {
   "cell_type": "code",
   "execution_count": null,
   "id": "e078eb63",
   "metadata": {},
   "outputs": [],
   "source": []
  },
  {
   "cell_type": "code",
   "execution_count": null,
   "id": "3465818c",
   "metadata": {},
   "outputs": [],
   "source": [
    "# AddBoost Classfier\n",
    "# Checking accurcy for AdaBoost Classifer\n",
    "ABC=AdaBoostClassifier()\n",
    "ABC.fit(x_train,y_train)\n",
    "predABC =ABC.predict(x_test)\n",
    "print(accuracy_score(y_test,predABC))\n",
    "print(confusion_matrix(y_test,predABC))\n",
    "print(classification_report(y_test,predABC))"
   ]
  },
  {
   "cell_type": "code",
   "execution_count": null,
   "id": "443b0235",
   "metadata": {},
   "outputs": [],
   "source": [
    "# Bagging Classifier\n",
    "# Checking accuracy for BaggingClassifgier\n",
    "BC=BaggingClassifier()\n",
    "BC.fit(x_train,y_train)\n",
    "predBC=BC.predict(x_test)\n",
    "print(accuracy_score(y_test,predBC))\n",
    "print(confusion_matrix(y_test,predBC))\n",
    "print(classification_report(y_test,predBC))"
   ]
  },
  {
   "cell_type": "code",
   "execution_count": null,
   "id": "085356c3",
   "metadata": {},
   "outputs": [],
   "source": [
    "# ExtraTreesClassfier\n",
    "# Checking accuracy for ExtraTreesClassifier\n",
    "ET=ExtraTreesClassifier()\n",
    "ET.fit(x_train,y_train)\n",
    "predET=ET.predict(x_test)\n",
    "print(accuracy_score(y_test,predET))\n",
    "print(confusion_matrix(y_test, predET))\n",
    "print(classification_report(y_test,predET))"
   ]
  },
  {
   "cell_type": "code",
   "execution_count": null,
   "id": "957c9706",
   "metadata": {},
   "outputs": [],
   "source": [
    "# Cross Validation Score\n",
    "from sklearn.model_selection import cross_val_score"
   ]
  },
  {
   "cell_type": "code",
   "execution_count": null,
   "id": "e78ad0a6",
   "metadata": {},
   "outputs": [],
   "source": [
    "# Checking cv score for Random Forest Classifier\n",
    "score=cross_val_score(RFC,x1,y1)\n",
    "print(score)\n",
    "print(score.mean())\n",
    "print('Difference between Accuracy score and cross validation score is ', accuracy_score(y_test,predRFC))"
   ]
  },
  {
   "cell_type": "code",
   "execution_count": null,
   "id": "7a907771",
   "metadata": {},
   "outputs": [],
   "source": [
    "# Checking cv score for Logistic Regression\n",
    "score=cross_val_score(LR,x1,y1)\n",
    "print(score)\n",
    "print(score.mean())\n",
    "print('Difference between Accuracy score and cross validation score is - ', accuracy_score(y_test,predLR)-score.mean())"
   ]
  },
  {
   "cell_type": "code",
   "execution_count": null,
   "id": "309998b9",
   "metadata": {},
   "outputs": [],
   "source": [
    "# Checking cv score for Gradient Boosting Classifier\n",
    "score=cross_val_score(GB,x1,y1)\n",
    "print(score)\n",
    "print(score.mean())\n",
    "print('Difference Between Accuracy score and cross validation scoreis - ',accuracy_score(y_test,predGB)-score.mean())"
   ]
  },
  {
   "cell_type": "code",
   "execution_count": null,
   "id": "8c10c9fe",
   "metadata": {},
   "outputs": [],
   "source": [
    "# Saving the model using .pk1\n",
    "import joblib\n",
    "joblib.dump(Final_model,'Telecom_Customer_Churn_Analysis.pki')"
   ]
  },
  {
   "cell_type": "code",
   "execution_count": null,
   "id": "1d67ed08",
   "metadata": {},
   "outputs": [],
   "source": [
    "### NAVIN SINGH"
   ]
  },
  {
   "cell_type": "code",
   "execution_count": null,
   "id": "077f2d7a",
   "metadata": {},
   "outputs": [],
   "source": [
    "# NAVIN SINGH"
   ]
  },
  {
   "cell_type": "code",
   "execution_count": null,
   "id": "94ccf3f2",
   "metadata": {},
   "outputs": [],
   "source": [
    "Descriptive Graph\n",
    "plt.figure(figsize=(22,10)) \n",
    "sns.heatmap(df.describe(),annot=True, fmt='0.2f',linewidth=0.2,linecolor='black',cmap='Spectral') \n",
    "plt.xlabel('Figure',fontsize=14) \n",
    "plt.ylabel('Features_Name',fontsize=14) \n",
    "plt.title('Descriptive Graph ', fontsize=20) \n",
    "plt.show()"
   ]
  }
 ],
 "metadata": {
  "kernelspec": {
   "display_name": "Python 3 (ipykernel)",
   "language": "python",
   "name": "python3"
  },
  "language_info": {
   "codemirror_mode": {
    "name": "ipython",
    "version": 3
   },
   "file_extension": ".py",
   "mimetype": "text/x-python",
   "name": "python",
   "nbconvert_exporter": "python",
   "pygments_lexer": "ipython3",
   "version": "3.10.12"
  }
 },
 "nbformat": 4,
 "nbformat_minor": 5
}
