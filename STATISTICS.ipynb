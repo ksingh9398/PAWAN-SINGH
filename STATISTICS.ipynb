{
 "cells": [
  {
   "cell_type": "code",
   "execution_count": 53,
   "id": "c3eea749",
   "metadata": {},
   "outputs": [
    {
     "name": "stdout",
     "output_type": "stream",
     "text": [
      "WELCOME NAVIN SINGH, Lets start to Statistics on Python\n"
     ]
    }
   ],
   "source": [
    "print(\"WELCOME NAVIN SINGH, Lets start to Statistics on Python\")"
   ]
  },
  {
   "cell_type": "code",
   "execution_count": 51,
   "id": "30f3e2af",
   "metadata": {},
   "outputs": [],
   "source": [
    "ages=[23,24,32,45,12,43,67,45,32,56,32,120]"
   ]
  },
  {
   "cell_type": "code",
   "execution_count": 7,
   "id": "da6706cb",
   "metadata": {},
   "outputs": [
    {
     "name": "stdout",
     "output_type": "stream",
     "text": [
      "44.25\n"
     ]
    }
   ],
   "source": [
    "import numpy as np\n",
    "print(np.mean(ages))\n",
    "#print(np.median(ages))"
   ]
  },
  {
   "cell_type": "code",
   "execution_count": 11,
   "id": "cbdb1a82",
   "metadata": {},
   "outputs": [
    {
     "name": "stdout",
     "output_type": "stream",
     "text": [
      "44.25\n",
      "37.5\n",
      "32\n"
     ]
    }
   ],
   "source": [
    "import statistics\n",
    "print(statistics.mean(ages))\n",
    "print(statistics.median(ages))\n",
    "print(statistics.mode(ages))"
   ]
  },
  {
   "cell_type": "code",
   "execution_count": 10,
   "id": "3c984924",
   "metadata": {},
   "outputs": [
    {
     "name": "stdout",
     "output_type": "stream",
     "text": [
      "32\n"
     ]
    }
   ],
   "source": [
    "import statistics\n",
    "print (statistics.mode(ages))"
   ]
  },
  {
   "cell_type": "code",
   "execution_count": 12,
   "id": "be99a777",
   "metadata": {},
   "outputs": [],
   "source": [
    "ages=[23,24,32,45,12,43,67,45,32,56,32,120,23,23,23,23,23,23,23,20]"
   ]
  },
  {
   "cell_type": "code",
   "execution_count": 13,
   "id": "c54f3827",
   "metadata": {},
   "outputs": [
    {
     "name": "stdout",
     "output_type": "stream",
     "text": [
      "23\n"
     ]
    }
   ],
   "source": [
    "import statistics\n",
    "print(statistics.mode(ages))"
   ]
  },
  {
   "cell_type": "code",
   "execution_count": 16,
   "id": "478c94d9",
   "metadata": {},
   "outputs": [
    {
     "name": "stdout",
     "output_type": "stream",
     "text": [
      "23\n"
     ]
    }
   ],
   "source": [
    "import statistics\n",
    "print(statistics.mode(ages))"
   ]
  },
  {
   "cell_type": "code",
   "execution_count": 17,
   "id": "9a31d587",
   "metadata": {},
   "outputs": [
    {
     "name": "stdout",
     "output_type": "stream",
     "text": [
      "35.6\n"
     ]
    }
   ],
   "source": [
    "import statistics\n",
    "print(statistics.mean(ages))"
   ]
  },
  {
   "cell_type": "code",
   "execution_count": 18,
   "id": "c1a1aa87",
   "metadata": {},
   "outputs": [
    {
     "name": "stdout",
     "output_type": "stream",
     "text": [
      "23.5\n"
     ]
    }
   ],
   "source": [
    "import statistics\n",
    "print(statistics.median(ages))"
   ]
  },
  {
   "cell_type": "code",
   "execution_count": 19,
   "id": "e7131feb",
   "metadata": {},
   "outputs": [
    {
     "name": "stdout",
     "output_type": "stream",
     "text": [
      "35.6\n",
      "23.5\n",
      "23\n"
     ]
    }
   ],
   "source": [
    "import statistics\n",
    "print(statistics.mean(ages))\n",
    "print(statistics.median(ages))\n",
    "print(statistics.mode(ages))"
   ]
  },
  {
   "cell_type": "code",
   "execution_count": 30,
   "id": "f22b8bc8",
   "metadata": {},
   "outputs": [
    {
     "name": "stdout",
     "output_type": "stream",
     "text": [
      "23.5\n"
     ]
    }
   ],
   "source": [
    "import numpy as np\n",
    "print(np.median(ages))"
   ]
  },
  {
   "cell_type": "code",
   "execution_count": 28,
   "id": "c479326f",
   "metadata": {},
   "outputs": [
    {
     "name": "stdout",
     "output_type": "stream",
     "text": [
      "35.6\n"
     ]
    }
   ],
   "source": [
    "import numpy as np\n",
    "print(np.mean(ages))"
   ]
  },
  {
   "cell_type": "code",
   "execution_count": 27,
   "id": "e0de46ed",
   "metadata": {},
   "outputs": [
    {
     "name": "stdout",
     "output_type": "stream",
     "text": [
      "35.6\n",
      "23.5\n"
     ]
    }
   ],
   "source": [
    "import numpy as np\n",
    "print(np.mean(ages))\n",
    "print(np.median(ages))"
   ]
  },
  {
   "cell_type": "code",
   "execution_count": 31,
   "id": "1f84f04d",
   "metadata": {},
   "outputs": [
    {
     "name": "stdout",
     "output_type": "stream",
     "text": [
      "23\n"
     ]
    }
   ],
   "source": [
    "import statistics\n",
    "print(statistics.mode(ages))"
   ]
  },
  {
   "cell_type": "code",
   "execution_count": 32,
   "id": "c09ec61f",
   "metadata": {
    "scrolled": false
   },
   "outputs": [
    {
     "name": "stderr",
     "output_type": "stream",
     "text": [
      "Matplotlib is building the font cache; this may take a moment.\n"
     ]
    },
    {
     "data": {
      "text/plain": [
       "<Axes: >"
      ]
     },
     "execution_count": 32,
     "metadata": {},
     "output_type": "execute_result"
    },
    {
     "data": {
      "image/png": "[encoded data removed]",
      "text/plain": [
       "<Figure size 640x480 with 1 Axes>"
      ]
     },
     "metadata": {},
     "output_type": "display_data"
    }
   ],
   "source": [
    "import seaborn as sns\n",
    "sns.boxplot(ages)"
   ]
  },
  {
   "cell_type": "code",
   "execution_count": 38,
   "id": "12241583",
   "metadata": {},
   "outputs": [],
   "source": [
    "ages=[23,24,32,45,12,43,67,45,32,56,32,12,15,24,300]"
   ]
  },
  {
   "cell_type": "code",
   "execution_count": 39,
   "id": "f001c7b0",
   "metadata": {
    "scrolled": false
   },
   "outputs": [
    {
     "data": {
      "text/plain": [
       "<Axes: >"
      ]
     },
     "execution_count": 39,
     "metadata": {},
     "output_type": "execute_result"
    },
    {
     "data": {
      "image/png": "[encoded data removed]",
      "text/plain": [
       "<Figure size 640x480 with 1 Axes>"
      ]
     },
     "metadata": {},
     "output_type": "display_data"
    }
   ],
   "source": [
    "import seaborn as sns\n",
    "sns.boxplot(ages)"
   ]
  },
  {
   "cell_type": "code",
   "execution_count": null,
   "id": "ae22331c",
   "metadata": {},
   "outputs": [],
   "source": [
    "5 NUMBER SUMMARY"
   ]
  },
  {
   "cell_type": "code",
   "execution_count": 46,
   "id": "cacaa6b8",
   "metadata": {},
   "outputs": [],
   "source": [
    "import numpy as np\n",
    "q1,q3=np.percentile(ages,[25,75])"
   ]
  },
  {
   "cell_type": "code",
   "execution_count": 47,
   "id": "3153f529",
   "metadata": {},
   "outputs": [
    {
     "name": "stdout",
     "output_type": "stream",
     "text": [
      "23.5 45.0\n"
     ]
    }
   ],
   "source": [
    "print(q1,q3)"
   ]
  },
  {
   "cell_type": "code",
   "execution_count": 48,
   "id": "e9f885ad",
   "metadata": {},
   "outputs": [],
   "source": [
    "ages=[23,24,32,45,12,43,67,45,32,56,32,120]"
   ]
  },
  {
   "cell_type": "code",
   "execution_count": 49,
   "id": "0c8f4756",
   "metadata": {},
   "outputs": [],
   "source": [
    "import numpy as np\n",
    "q1,q3=np.percentile(ages,[25,75])"
   ]
  },
  {
   "cell_type": "code",
   "execution_count": 50,
   "id": "e3100167",
   "metadata": {},
   "outputs": [
    {
     "name": "stdout",
     "output_type": "stream",
     "text": [
      "30.0 47.75\n"
     ]
    }
   ],
   "source": [
    "print(q1,q3)"
   ]
  },
  {
   "cell_type": "code",
   "execution_count": 55,
   "id": "5f33989b",
   "metadata": {},
   "outputs": [
    {
     "name": "stdout",
     "output_type": "stream",
     "text": [
      "37.5\n"
     ]
    }
   ],
   "source": [
    "import statistics\n",
    "print(statistics.median(ages))"
   ]
  },
  {
   "cell_type": "code",
   "execution_count": 65,
   "id": "2ca78690",
   "metadata": {},
   "outputs": [
    {
     "name": "stdout",
     "output_type": "stream",
     "text": [
      "3.375 74.375\n"
     ]
    }
   ],
   "source": [
    "lower_fence=q1-1.5*(IQR)\n",
    "higher_fence=q3+1.5*(IQR)\n",
    "print(lower_fence,higher_fence)"
   ]
  },
  {
   "cell_type": "code",
   "execution_count": 66,
   "id": "73f2337f",
   "metadata": {},
   "outputs": [
    {
     "data": {
      "text/plain": [
       "795.2954545454545"
      ]
     },
     "execution_count": 66,
     "metadata": {},
     "output_type": "execute_result"
    }
   ],
   "source": [
    "statistics.variance(ages)"
   ]
  },
  {
   "cell_type": "code",
   "execution_count": 68,
   "id": "42a0a0e1",
   "metadata": {},
   "outputs": [
    {
     "data": {
      "text/plain": [
       "729.0208333333334"
      ]
     },
     "execution_count": 68,
     "metadata": {},
     "output_type": "execute_result"
    }
   ],
   "source": [
    "np.var(ages,axis=0)"
   ]
  },
  {
   "cell_type": "code",
   "execution_count": null,
   "id": "902a643f",
   "metadata": {},
   "outputs": [],
   "source": [
    "##### POPULATION VARIANCE ###########"
   ]
  },
  {
   "cell_type": "code",
   "execution_count": 80,
   "id": "9e2ccf5f",
   "metadata": {},
   "outputs": [],
   "source": [
    "def variance(data):\n",
    "    n=len(ages)\n",
    "    ## mean of the data\n",
    "    mean=sum(data)/n\n",
    "    ## variance\n",
    "    deviation=[(x - mean) ** 2 for x in data]\n",
    "    variance=sum(deviation)/n\n",
    "    return variance"
   ]
  },
  {
   "cell_type": "code",
   "execution_count": 81,
   "id": "0e2ce2aa",
   "metadata": {},
   "outputs": [
    {
     "data": {
      "text/plain": [
       "729.0208333333334"
      ]
     },
     "execution_count": 81,
     "metadata": {},
     "output_type": "execute_result"
    }
   ],
   "source": [
    "variance(ages)"
   ]
  },
  {
   "cell_type": "code",
   "execution_count": 85,
   "id": "c1901884",
   "metadata": {},
   "outputs": [],
   "source": [
    "  def variance(data):  \n",
    "    n=len(ages)\n",
    "    mean=sum(data)/n\n",
    "    deviation=[(x - mean) ** 2 for x in data]\n",
    "    variance=sum(deviation)/n\n",
    "    return variance"
   ]
  },
  {
   "cell_type": "code",
   "execution_count": 83,
   "id": "9fc05ead",
   "metadata": {},
   "outputs": [
    {
     "data": {
      "text/plain": [
       "729.0208333333334"
      ]
     },
     "execution_count": 83,
     "metadata": {},
     "output_type": "execute_result"
    }
   ],
   "source": [
    "variance(ages)"
   ]
  },
  {
   "cell_type": "code",
   "execution_count": 86,
   "id": "c619a30d",
   "metadata": {},
   "outputs": [
    {
     "data": {
      "text/plain": [
       "729.0208333333334"
      ]
     },
     "execution_count": 86,
     "metadata": {},
     "output_type": "execute_result"
    }
   ],
   "source": [
    "np.var(ages,axis=0)"
   ]
  },
  {
   "cell_type": "code",
   "execution_count": 87,
   "id": "f62902d3",
   "metadata": {},
   "outputs": [],
   "source": [
    "########## SAMPLE VARIANCE #######"
   ]
  },
  {
   "cell_type": "code",
   "execution_count": 88,
   "id": "4e1eab41",
   "metadata": {},
   "outputs": [],
   "source": [
    "def variance(data):  \n",
    "    n=len(ages)\n",
    "    mean=sum(data)/n\n",
    "    deviation=[(x - mean) ** 2 for x in data]\n",
    "    variance=sum(deviation)/(n-1)\n",
    "    return variance"
   ]
  },
  {
   "cell_type": "code",
   "execution_count": 89,
   "id": "61202235",
   "metadata": {},
   "outputs": [
    {
     "data": {
      "text/plain": [
       "795.2954545454545"
      ]
     },
     "execution_count": 89,
     "metadata": {},
     "output_type": "execute_result"
    }
   ],
   "source": [
    "variance(ages)"
   ]
  },
  {
   "cell_type": "code",
   "execution_count": 90,
   "id": "41fcff4e",
   "metadata": {},
   "outputs": [
    {
     "data": {
      "text/plain": [
       "795.2954545454545"
      ]
     },
     "execution_count": 90,
     "metadata": {},
     "output_type": "execute_result"
    }
   ],
   "source": [
    "statistics.variance(ages)"
   ]
  },
  {
   "cell_type": "code",
   "execution_count": 91,
   "id": "78b16d27",
   "metadata": {},
   "outputs": [
    {
     "data": {
      "text/plain": [
       "729.0208333333334"
      ]
     },
     "execution_count": 91,
     "metadata": {},
     "output_type": "execute_result"
    }
   ],
   "source": [
    "statistics.pvariance(ages)"
   ]
  },
  {
   "cell_type": "code",
   "execution_count": 94,
   "id": "c94b2789",
   "metadata": {},
   "outputs": [
    {
     "data": {
      "text/plain": [
       "27.000385799712813"
      ]
     },
     "execution_count": 94,
     "metadata": {},
     "output_type": "execute_result"
    }
   ],
   "source": [
    "import math\n",
    "math.sqrt(statistics.pvariance(ages))"
   ]
  },
  {
   "cell_type": "code",
   "execution_count": 95,
   "id": "d1142f0b",
   "metadata": {},
   "outputs": [
    {
     "data": {
      "text/plain": [
       "28.2009832194811"
      ]
     },
     "execution_count": 95,
     "metadata": {},
     "output_type": "execute_result"
    }
   ],
   "source": [
    "import math\n",
    "math.sqrt(statistics.variance(ages))"
   ]
  },
  {
   "cell_type": "code",
   "execution_count": 96,
   "id": "0d6862c3",
   "metadata": {},
   "outputs": [],
   "source": [
    "########### HISTOGRAMS AND PDF ###########"
   ]
  },
  {
   "cell_type": "code",
   "execution_count": 113,
   "id": "7aca565d",
   "metadata": {},
   "outputs": [
    {
     "data": {
      "text/plain": [
       "<Axes: ylabel='Count'>"
      ]
     },
     "execution_count": 113,
     "metadata": {},
     "output_type": "execute_result"
    },
    {
     "data": {
      "image/png": "[encoded data removed]",
      "text/plain": [
       "<Figure size 640x480 with 1 Axes>"
      ]
     },
     "metadata": {},
     "output_type": "display_data"
    }
   ],
   "source": [
    "import seaborn as sns\n",
    "sns.histplot(ages,)"
   ]
  },
  {
   "cell_type": "code",
   "execution_count": 112,
   "id": "f96598fa",
   "metadata": {},
   "outputs": [
    {
     "data": {
      "text/plain": [
       "<Axes: ylabel='Count'>"
      ]
     },
     "execution_count": 112,
     "metadata": {},
     "output_type": "execute_result"
    },
    {
     "data": {
      "image/png": "[encoded data removed]",
      "text/plain": [
       "<Figure size 640x480 with 1 Axes>"
      ]
     },
     "metadata": {},
     "output_type": "display_data"
    }
   ],
   "source": [
    "import seaborn as sns\n",
    "sns.histplot(ages,kde=True)"
   ]
  },
  {
   "cell_type": "code",
   "execution_count": null,
   "id": "c0929a49",
   "metadata": {},
   "outputs": [],
   "source": [
    "############# CREAT A NORMAL DISTRIBUTION DATA ###########"
   ]
  },
  {
   "cell_type": "code",
   "execution_count": 120,
   "id": "403ae3ca",
   "metadata": {},
   "outputs": [],
   "source": [
    "s=np.random.normal(0.5,0.2,1000)"
   ]
  },
  {
   "cell_type": "code",
   "execution_count": 123,
   "id": "965f4900",
   "metadata": {},
   "outputs": [
    {
     "data": {
      "text/plain": [
       "array([ 0.51707258,  0.23469939,  0.55012784,  0.65198052,  0.25602918,\n",
       "        0.61282418,  0.49495928,  0.73800388,  0.53373844,  0.33450602,\n",
       "        0.54635745,  0.81550098, -0.00645818,  0.8085066 ,  0.2372173 ,\n",
       "        0.19906477,  0.55316051,  0.63762081,  0.19061247,  0.39562839,\n",
       "        0.30800431,  0.79116181,  0.08666501,  0.42252657,  0.33819057,\n",
       "        0.53116881,  0.55597136,  0.25913982,  0.47978181,  0.47995763,\n",
       "        0.41346433,  0.42935123,  0.75106577,  0.44209347,  0.76704739,\n",
       "        0.39882185,  0.45972238,  0.62711218,  0.12633526,  0.58406485,\n",
       "        0.29355375,  0.30474823,  0.71639355,  0.41941244,  0.51284456,\n",
       "        0.70228208,  0.41621643,  0.67918142,  0.65996285,  0.47945307,\n",
       "        0.31320147,  0.57498829,  0.32780071,  0.45731179,  0.28510454,\n",
       "        0.06128159,  0.2442045 ,  0.40847374,  0.5545371 ,  0.00200487,\n",
       "        0.26599708,  0.58106241,  0.18373354,  0.86383644,  0.75978752,\n",
       "        0.57397815,  0.38730946,  0.28269866,  0.38350261,  0.06226701,\n",
       "        0.64313309,  0.67705497,  0.24322058,  0.20686288,  0.6146757 ,\n",
       "        0.1829722 ,  0.47751243,  0.50558737,  0.12786528,  0.4312128 ,\n",
       "        0.20558469,  0.58653723,  0.4517033 ,  0.46906041,  0.38506891,\n",
       "        0.09571885,  0.32806462,  0.39698084,  0.46857299,  0.4403581 ,\n",
       "        0.56112039,  0.42017383,  0.78173868,  0.13527494,  0.61964218,\n",
       "        0.93641543,  0.68104564,  0.12147466,  0.69883317,  0.49048477,\n",
       "        0.69834163,  0.30265455,  0.11675044,  0.52582048,  0.84864681,\n",
       "        0.70955293,  0.12885657,  0.56979899,  0.57574776,  0.58128593,\n",
       "        0.65975189,  0.54499686,  0.89042266,  0.68832433,  0.10491556,\n",
       "        0.48042474,  0.39755725,  0.34256503,  0.46913075,  0.60369045,\n",
       "        0.39221026,  0.54643264,  0.48971448,  0.67244631,  0.40363725,\n",
       "        0.57546148,  0.4326091 ,  0.55332084,  0.03289962,  0.56995763,\n",
       "        0.37827106,  0.4215431 ,  0.62835095,  0.60039501,  0.71059436,\n",
       "        0.35924945,  0.5671103 ,  0.29484442,  0.68754383,  0.4442834 ,\n",
       "        0.36405009,  0.39292858,  0.89407976,  0.34278238,  0.73748073,\n",
       "        0.05383702,  0.55819266,  0.35949836,  0.31762811,  0.44146287,\n",
       "        0.78507486,  0.56651423,  0.25770287,  0.66171325,  0.68424593,\n",
       "        0.87267341,  0.46793884,  0.24861689,  0.83125505,  0.59205491,\n",
       "        0.43379466,  0.31852721,  0.38665516,  0.26677813,  0.13648933,\n",
       "        0.42593062,  0.65612529,  0.21891039,  0.43716804,  0.90080328,\n",
       "        0.01056784,  0.45658542,  0.62258135,  0.31611597,  0.45429591,\n",
       "        0.36985623,  0.30653321,  0.35292906,  0.41799581,  0.67913252,\n",
       "        0.36139448,  0.85894123,  0.46170972,  0.63415582,  0.72656889,\n",
       "        0.64435701,  0.27886903,  0.41868497,  0.30882961,  0.31178965,\n",
       "        0.51674805,  0.41032607,  0.61854888,  0.7063398 ,  0.4701967 ,\n",
       "        0.14715502,  0.02583718,  0.62685514,  0.3076051 ,  0.48494331,\n",
       "        0.39438924,  0.40484963,  0.48989355,  0.21612317,  0.35042634,\n",
       "        0.52634157,  0.17007221,  0.90343357,  0.88472673,  0.63235309,\n",
       "        0.35565049,  0.4482232 ,  0.24899334,  0.520638  ,  0.55599361,\n",
       "        0.65448005,  0.66374775,  0.40350969,  0.47946487,  0.43083719,\n",
       "        0.53065017,  0.95938919,  0.29876015,  0.78743074,  0.70561807,\n",
       "        0.22325154,  0.80621557,  0.29073309,  0.21220015,  0.6607617 ,\n",
       "        0.51117865,  0.57321764,  0.26578353,  0.99925473,  0.06416409,\n",
       "        0.49136185,  0.66251216,  0.63419833,  0.40086211,  0.29891924,\n",
       "        0.47028631,  0.47437654,  0.40680845,  0.43629269,  0.42253631,\n",
       "        0.56984507,  0.9654434 ,  0.64834495,  0.7030231 ,  0.42165794,\n",
       "        0.28440149,  0.54932249,  0.72141757,  0.72606724,  0.51609281,\n",
       "        0.60293942,  0.16393984,  0.52395382,  0.75232517,  0.96424714,\n",
       "        0.57584741,  0.29273072,  0.3956853 ,  0.5428522 ,  0.32507922,\n",
       "        0.80149532,  0.75909212,  0.11192392,  0.62558866,  0.63755424,\n",
       "        0.42883754,  0.78682912,  0.17676381,  0.46544532,  0.77014306,\n",
       "        0.2305575 ,  0.37651457,  0.91687312,  0.30368377,  0.78902843,\n",
       "        0.38306174,  0.35521244,  0.45913426,  0.4612741 ,  0.98487801,\n",
       "        0.70998363,  0.47344899,  0.57210678,  0.50645755,  0.44737983,\n",
       "        0.46603565,  0.33887249,  0.53505755,  0.42990009,  0.6066301 ,\n",
       "        0.35356865,  0.5018051 ,  0.05224578,  0.58131871,  0.28829803,\n",
       "        0.4645761 ,  0.58995567,  0.46177791,  0.36005215,  0.0880209 ,\n",
       "        0.39660064,  0.69619164,  0.54735707,  0.57940933,  0.47702326,\n",
       "        0.44743046,  0.25880104,  0.65974863,  0.62276427,  0.8761583 ,\n",
       "        0.51957243,  0.64134255,  0.74362599,  1.1379245 ,  0.66425271,\n",
       "        0.38458443,  0.56280763,  0.339392  ,  0.50115762,  0.8493846 ,\n",
       "        0.65073724,  0.65751914,  0.222789  ,  0.23740265,  0.11175642,\n",
       "        0.72384547,  0.18923838,  0.79870556,  0.40952906,  0.30123888,\n",
       "        0.51377128,  0.44916121,  0.70622363,  0.62906795,  0.41231551,\n",
       "        0.82997113,  0.42375478,  1.15791429,  0.04899801,  0.36803777,\n",
       "        0.58111607,  0.36539615,  0.50742768,  0.56613192,  0.40687739,\n",
       "        0.7981021 ,  0.23493083,  0.4346053 ,  0.49148569,  0.35281601,\n",
       "        0.82810411,  0.20095983,  0.46827825,  0.77574847,  0.41782713,\n",
       "        0.40773781,  0.3666218 ,  0.73102828,  0.78790252,  0.4205542 ,\n",
       "        0.21082318,  0.64190925,  0.11009116,  0.70347833,  0.60341854,\n",
       "        0.65077841,  0.51265363,  0.49770149,  0.64733386,  0.52384148,\n",
       "        0.46914497,  0.52350888,  0.23281071,  0.52609123,  0.42986441,\n",
       "        0.50560387,  0.6135012 ,  0.54536039,  0.51414013,  0.54790322,\n",
       "        0.45782729,  0.31905445,  0.16844452,  0.11551376,  0.46465976,\n",
       "        0.71878673,  0.03220684,  0.31024968,  0.35724821,  0.44389097,\n",
       "        0.77486666,  0.40539646,  0.45062351,  0.27892435,  0.65477747,\n",
       "        0.62825415, -0.01550317,  0.69996592,  0.40697337,  0.47462822,\n",
       "        0.33616465,  0.25553283,  0.30480325,  0.24773319,  0.47677572,\n",
       "        0.48942426,  0.53093258,  0.66721321,  1.12244717,  0.56626885,\n",
       "        0.25139434,  0.69316919,  0.56338549,  0.82531395,  0.34092196,\n",
       "        0.80374654,  0.53746471,  0.82213487,  0.38551084,  0.75250557,\n",
       "        0.33401121,  0.5553789 ,  0.22162999,  0.43736648,  0.19915425,\n",
       "        0.30450651,  0.01001302,  0.67270693,  0.57706983,  0.33123827,\n",
       "        0.53548308,  0.5461523 ,  0.74772635,  0.33520574,  0.50190285,\n",
       "        0.96233335,  0.56868484,  0.37496824,  0.46928891,  0.24779015,\n",
       "        0.26475274,  0.29744725,  0.55012487,  0.81724685,  0.69186403,\n",
       "        0.37761364,  0.59349368,  0.56249437,  0.66968912,  0.55175217,\n",
       "        0.41852347,  0.03800825,  0.16675325,  0.42818953,  0.19579295,\n",
       "        0.86982059, -0.05122722,  0.05675408,  0.45068262,  0.50401951,\n",
       "        0.39425382,  0.26741887,  0.57854214,  0.38416486,  0.74857631,\n",
       "        0.50330897,  0.24433815,  0.27201632,  0.48982847,  0.67670753,\n",
       "        0.61582027,  0.64608944,  0.37925673,  0.48818912,  0.53917714,\n",
       "        0.72405202,  0.33639407,  0.33268765,  0.58672072,  0.43043018,\n",
       "        0.70371523,  0.84815257,  0.80684971,  0.12828072,  0.64651489,\n",
       "        0.61914245,  0.03166186,  0.51921004,  0.70304008,  0.2924494 ,\n",
       "        0.56945638,  0.44266256,  0.53313239,  0.44647093,  0.51686771,\n",
       "        0.23442312,  0.71272094,  0.56326388,  0.57058104,  0.72018196,\n",
       "        0.49783838,  0.29310624,  0.67323629,  0.3507629 ,  0.31369999,\n",
       "        0.80978874,  0.52235329,  0.76446983,  0.35017029,  0.60848475,\n",
       "        0.52848515,  0.70379831,  0.30103544,  0.45040768,  0.53743212,\n",
       "        0.64698606,  0.39902542,  0.66974321,  0.81535047,  0.41707782,\n",
       "        0.713429  ,  0.41144979,  0.37548005,  0.70371665,  0.54493376,\n",
       "        0.6002406 ,  0.47914084,  0.33885306,  0.26048448,  0.52788664,\n",
       "        0.5176187 ,  0.69044324,  0.3746883 ,  0.42721053,  0.5001043 ,\n",
       "        0.38470848,  0.40011839,  0.60770442,  0.33093747,  0.79391917,\n",
       "        0.6710176 ,  0.40119452,  0.64568287,  0.49103487,  0.78442665,\n",
       "        0.51351367,  0.47705382,  0.32667274,  0.39940151,  0.4413636 ,\n",
       "        0.45224265,  0.59657379,  0.52240975,  0.2590316 ,  0.20738389,\n",
       "        0.70107054,  0.49793999,  0.38225029,  0.88675383,  0.14056625,\n",
       "        0.25644502,  0.59307541,  0.80501175,  0.30725568,  0.24012769,\n",
       "        0.49538197,  0.19648534,  0.50340966,  0.17215692,  0.24656185,\n",
       "        0.31662488,  0.45692276,  0.27328183,  0.1255074 ,  0.36501288,\n",
       "        0.48680469,  0.73871665,  0.39555545,  0.74302539,  0.45127595,\n",
       "        0.44101023,  0.65719361,  0.53452266,  0.18860647,  0.40681849,\n",
       "        0.80948843,  0.39531451,  0.34077023,  0.65454432,  0.54132147,\n",
       "        0.34717039,  0.35506477,  0.2415557 ,  0.40224012,  0.49371666,\n",
       "        0.47108191,  0.70557661,  0.43873946,  0.07083074,  0.62995966,\n",
       "        0.66590667,  0.26153361,  0.71286688,  0.62590813,  0.68666644,\n",
       "        0.53410927,  0.45511331,  0.54743301,  0.69742621,  0.19448208,\n",
       "        0.61592526,  0.59313691,  0.62497482,  0.24865856,  0.55657164,\n",
       "        0.34011373,  0.51682765,  0.52016177,  0.76574597,  0.24374265,\n",
       "        0.92916892,  0.57988586,  0.36384149,  0.36289712,  0.77167562,\n",
       "        0.49385691,  0.7290121 ,  0.32850942,  0.26978898,  0.1540478 ,\n",
       "        0.47417626,  0.30241868,  0.6784517 ,  0.50757849,  0.59118968,\n",
       "        0.69246382,  0.18107844,  0.34414486,  0.03087565,  0.50461949,\n",
       "        0.40141393,  0.44639379,  0.29710693,  0.20967123,  0.20478706,\n",
       "        0.65970695,  0.61677871,  0.43348901,  0.38448984,  0.56863752,\n",
       "        0.43381803,  0.1350099 ,  0.49199816,  0.57142479,  0.12580057,\n",
       "        0.28986426,  0.65036384,  0.89945925,  0.50408579,  0.63840748,\n",
       "        0.49236965,  0.78642048,  0.42437614,  0.69923736,  0.39994884,\n",
       "        0.58275055,  0.3826803 ,  0.83426977,  0.70938722,  0.50970943,\n",
       "        0.55087662,  0.65080976,  0.59488821,  0.75560276,  0.61669452,\n",
       "        0.77094229,  0.17606288,  0.65205008,  0.58462072,  0.35264734,\n",
       "        0.64366288,  0.42463807,  0.57965475,  0.77181332,  0.38619051,\n",
       "        0.62139677,  0.93001206,  0.54753409,  0.43447818,  0.33830387,\n",
       "        0.44963037,  0.71367539,  0.26282594,  0.57093121,  0.81422862,\n",
       "        0.49817266,  0.4411826 ,  0.45903593,  0.54283193,  0.36268009,\n",
       "        0.79026691,  0.56904572,  0.77418519,  0.69243135,  0.74089574,\n",
       "        0.79071688,  0.63737335,  0.52569586,  0.20238603,  0.81396817,\n",
       "       -0.02280673,  0.43977276,  0.2062852 ,  0.32385709,  0.29296419,\n",
       "        0.55840106,  0.34165365,  0.75570925,  0.22850614,  0.36592748,\n",
       "        0.22503012,  0.78195997,  0.86239427,  0.5683816 , -0.0138939 ,\n",
       "        0.32566136,  0.65452765,  0.94854784,  0.7337895 ,  0.68416567,\n",
       "        0.55096286,  0.64400721,  0.84339915,  0.70183936,  0.51488131,\n",
       "       -0.03308879,  0.67014533,  0.9734797 ,  0.5480997 ,  0.76864422,\n",
       "        0.46575795,  0.63135009,  0.6544297 ,  0.39233547,  0.38547505,\n",
       "        0.34794071,  0.53282013,  0.34213687,  0.63138174,  0.61217791,\n",
       "        0.39446066,  0.07159425,  0.89704947,  0.42488733,  0.13021646,\n",
       "        0.16134235,  0.14153602,  0.17125544,  0.67877836,  0.11603065,\n",
       "        0.50474241,  0.32975406,  0.5873706 ,  0.45595019,  0.23827342,\n",
       "        0.68177144,  0.52270897,  0.80124952,  0.57453929,  0.26173508,\n",
       "        0.45346795,  0.72319162,  0.57749232,  0.64625616,  0.55229225,\n",
       "        0.46056414,  0.25581155,  0.91795506,  0.25939808,  0.65044565,\n",
       "        0.38294939,  0.53269776,  0.59946254,  0.65619514,  0.75590942,\n",
       "        0.39030104,  0.7361185 ,  0.9707392 ,  0.61175254,  0.62177472,\n",
       "        0.29576344,  0.765946  ,  0.99581874,  0.50281481,  0.80206783,\n",
       "        0.73270635,  0.46614728,  0.3282524 ,  0.05569612,  0.59182274,\n",
       "        0.73274192,  0.35594628,  0.35316016,  0.24891145,  0.59970902,\n",
       "        0.47462517,  0.74446521,  0.38058022,  0.82873352,  0.2206554 ,\n",
       "        0.87765452,  0.27471673,  0.45567403,  0.73070792,  0.62401239,\n",
       "        0.00752642,  0.46874662,  0.31043555,  0.22011121,  0.4915602 ,\n",
       "        0.16265364,  0.20969729,  0.56502208,  0.44209485,  0.67587507,\n",
       "        0.50071579,  0.33783369,  0.43461761,  0.60468946,  0.79238304,\n",
       "        0.62252835,  0.21704397,  0.93757978,  0.49885975,  0.52238147,\n",
       "        0.24618885,  0.28082249,  0.78379734,  0.38835261,  0.45700235,\n",
       "        0.52041074,  0.43650613,  0.66567678,  0.37681146,  0.13295503,\n",
       "        0.28356662,  0.56243564,  0.29278913,  0.62989255,  0.46580074,\n",
       "        0.56636968,  0.25917702,  0.37477542,  0.82894737,  0.20199565,\n",
       "        0.73367271,  0.51048841,  0.72326675,  0.55625438,  0.53247307,\n",
       "        0.50521798,  0.40935184,  0.57745677,  1.09563461,  0.6440315 ,\n",
       "        0.25994897,  0.2192606 ,  0.52924133,  0.50484027,  0.59905826,\n",
       "        0.83894704,  0.66486159,  0.10537309,  0.57575824,  0.44973124,\n",
       "        0.4221322 ,  0.50957908,  0.81986961,  0.29245977,  0.65532029,\n",
       "        0.33811083,  0.11612085,  0.71222651,  0.12158056,  0.11183006,\n",
       "        0.27419137,  0.74544971,  0.28051043,  0.29096053,  0.36129492,\n",
       "        0.23205944,  0.06943113,  0.70083887,  0.56859573,  0.38087344,\n",
       "        0.39894384,  0.36290379,  0.72900451,  0.65414544,  0.24671358,\n",
       "        0.37830785,  0.82856779,  0.66317231,  0.13517658,  0.68144377,\n",
       "        0.71887391,  0.55664578,  0.79215262,  0.43918443,  0.74774734,\n",
       "        0.66805154,  0.49572862,  0.45997459,  0.75541473,  0.98519629,\n",
       "        0.45438985,  0.62879945,  0.69839503,  0.39362344,  0.59373475,\n",
       "        0.54063256,  0.2705583 ,  0.23542803,  0.665277  ,  0.40631877,\n",
       "        0.36623573,  0.41918872,  0.53506321,  0.30633306,  0.96384915,\n",
       "        0.41425795,  0.49774266,  0.72724157,  0.82265994,  0.45561066,\n",
       "        0.2019305 ,  0.50910133,  0.44266534,  0.54650203,  0.50027208,\n",
       "        0.32497786,  0.42511384,  0.64783174,  0.28791001,  0.58857123,\n",
       "        0.44398488,  0.72895659,  0.81446447,  0.47296165,  0.50823994,\n",
       "        0.53825894,  0.8339312 ,  0.41164051,  0.55346221,  0.63375651,\n",
       "        0.87533883,  0.25045535,  0.68498101,  0.48740234,  0.31686242,\n",
       "        0.61571991,  1.0035773 ,  0.52679661,  0.37582452,  0.61865363,\n",
       "        0.66939835,  0.4346978 ,  0.36814346,  0.7311252 ,  0.61290629,\n",
       "        0.42817398,  0.41397787,  0.42905056,  0.55096291,  0.64354513,\n",
       "        0.67032146,  0.48063826,  0.28542409,  0.42795531,  0.49447374,\n",
       "        0.46911441,  0.18035346,  0.29211411,  0.69731594,  0.69923833,\n",
       "        0.83908755,  0.17224944,  0.5183756 , -0.05516301,  0.29278861,\n",
       "        0.54041381,  0.37808857,  0.36148551,  0.65214732,  1.07329049])"
      ]
     },
     "execution_count": 123,
     "metadata": {},
     "output_type": "execute_result"
    }
   ],
   "source": [
    "s"
   ]
  },
  {
   "cell_type": "code",
   "execution_count": 121,
   "id": "6dd4bb14",
   "metadata": {},
   "outputs": [
    {
     "data": {
      "text/plain": [
       "<Axes: ylabel='Count'>"
      ]
     },
     "execution_count": 121,
     "metadata": {},
     "output_type": "execute_result"
    },
    {
     "data": {
      "image/png": "[encoded data removed]",
      "text/plain": [
       "<Figure size 640x480 with 1 Axes>"
      ]
     },
     "metadata": {},
     "output_type": "display_data"
    }
   ],
   "source": [
    "sns.histplot(s,kde=True)"
   ]
  },
  {
   "cell_type": "code",
   "execution_count": 162,
   "id": "1aa24459",
   "metadata": {},
   "outputs": [],
   "source": [
    "mu, sigma = 3., 1.\n",
    "s = np.random.lognormal(mu, sigma, 1000)"
   ]
  },
  {
   "cell_type": "code",
   "execution_count": 163,
   "id": "efbe158a",
   "metadata": {},
   "outputs": [
    {
     "data": {
      "text/plain": [
       "<Axes: ylabel='Count'>"
      ]
     },
     "execution_count": 163,
     "metadata": {},
     "output_type": "execute_result"
    },
    {
     "data": {
      "image/png": "[encoded data removed]",
      "text/plain": [
       "<Figure size 640x480 with 1 Axes>"
      ]
     },
     "metadata": {},
     "output_type": "display_data"
    }
   ],
   "source": [
    "sns.histplot(s,kde=True)"
   ]
  },
  {
   "cell_type": "code",
   "execution_count": 164,
   "id": "35e87e31",
   "metadata": {},
   "outputs": [],
   "source": [
    "mu, sigma = 3., 1.\n",
    "s = np.random.lognormal(mu, sigma, 100)"
   ]
  },
  {
   "cell_type": "code",
   "execution_count": 165,
   "id": "5935055a",
   "metadata": {},
   "outputs": [
    {
     "data": {
      "text/plain": [
       "<Axes: ylabel='Count'>"
      ]
     },
     "execution_count": 165,
     "metadata": {},
     "output_type": "execute_result"
    },
    {
     "data": {
      "image/png": "[encoded data removed]",
      "text/plain": [
       "<Figure size 640x480 with 1 Axes>"
      ]
     },
     "metadata": {},
     "output_type": "display_data"
    }
   ],
   "source": [
    "sns.histplot(s,kde=True)"
   ]
  },
  {
   "cell_type": "code",
   "execution_count": 166,
   "id": "71b2c96d",
   "metadata": {},
   "outputs": [],
   "source": [
    "############# CHECK WHETHER DISTRIBUTION IS NORMAL DISTRIBUTION #################"
   ]
  },
  {
   "cell_type": "code",
   "execution_count": 174,
   "id": "e5ae6e8a",
   "metadata": {},
   "outputs": [],
   "source": [
    "import matplotlib.pyplot as plt\n",
    "import scipy.stats as start\n",
    "import pylab\n",
    "def plot_data(sample):\n",
    "    plt.figure(figsize=(10,6))\n",
    "    plt.subplot(1,2,1)\n",
    "    sns.histplot(sample)\n",
    "    plt.subplot(1,2,2)\n",
    "    start.probplot(sample,dist='norm',plot=pylab)\n",
    "    plt.show()"
   ]
  },
  {
   "cell_type": "code",
   "execution_count": 175,
   "id": "2b1fcfdf",
   "metadata": {},
   "outputs": [
    {
     "data": {
      "image/png": "[encoded data removed]",
      "text/plain": [
       "<Figure size 1000x600 with 2 Axes>"
      ]
     },
     "metadata": {},
     "output_type": "display_data"
    }
   ],
   "source": [
    "s=np.random.normal(0.5,0.2,1000)\n",
    "plot_data(s)"
   ]
  },
  {
   "cell_type": "code",
   "execution_count": 179,
   "id": "18a32aa7",
   "metadata": {},
   "outputs": [],
   "source": [
    "import matplotlib.pyplot as plt\n",
    "import scipy.stats as start\n",
    "import pylab\n",
    "def plot_data(sample):\n",
    "    plt.figure(figsize=(10,6))\n",
    "    plt.subplot(1,2,1)\n",
    "    sns.histplot(sample)\n",
    "    plt.subplot(1,2,2)\n",
    "    start.probplot(np.log(sample),dist='norm',plot=pylab)\n",
    "    plt.show()"
   ]
  },
  {
   "cell_type": "code",
   "execution_count": 180,
   "id": "e0e6eae2",
   "metadata": {},
   "outputs": [
    {
     "ename": "NameError",
     "evalue": "name 'plot_data_log' is not defined",
     "output_type": "error",
     "traceback": [
      "\u001b[1;31m---------------------------------------------------------------------------\u001b[0m",
      "\u001b[1;31mNameError\u001b[0m                                 Traceback (most recent call last)",
      "Cell \u001b[1;32mIn[180], line 1\u001b[0m\n\u001b[1;32m----> 1\u001b[0m \u001b[43mplot_data_log\u001b[49m(sample)\n",
      "\u001b[1;31mNameError\u001b[0m: name 'plot_data_log' is not defined"
     ]
    }
   ],
   "source": [
    "plot_data_log(sample)"
   ]
  },
  {
   "cell_type": "code",
   "execution_count": null,
   "id": "2e12b66e",
   "metadata": {},
   "outputs": [],
   "source": []
  }
 ],
 "metadata": {
  "kernelspec": {
   "display_name": "Python 3 (ipykernel)",
   "language": "python",
   "name": "python3"
  },
  "language_info": {
   "codemirror_mode": {
    "name": "ipython",
    "version": 3
   },
   "file_extension": ".py",
   "mimetype": "text/x-python",
   "name": "python",
   "nbconvert_exporter": "python",
   "pygments_lexer": "ipython3",
   "version": "3.10.9"
  }
 },
 "nbformat": 4,
 "nbformat_minor": 5
}
