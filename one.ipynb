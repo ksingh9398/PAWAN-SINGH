{
 "cells": [
  {
   "cell_type": "code",
   "execution_count": 2,
   "id": "cb1edca9",
   "metadata": {},
   "outputs": [
    {
     "name": "stdout",
     "output_type": "stream",
     "text": [
      "hello navin singh\n"
     ]
    }
   ],
   "source": [
    "print(\"hello navin singh\")"
   ]
  },
  {
   "cell_type": "code",
   "execution_count": 3,
   "id": "167e09d7",
   "metadata": {},
   "outputs": [
    {
     "name": "stdout",
     "output_type": "stream",
     "text": [
      "navin singh\n"
     ]
    }
   ],
   "source": [
    "hello= \"navin singh\"\n",
    "print(hello)"
   ]
  },
  {
   "cell_type": "code",
   "execution_count": 5,
   "id": "87d827e9",
   "metadata": {},
   "outputs": [
    {
     "name": "stdout",
     "output_type": "stream",
     "text": [
      "copy past\n"
     ]
    }
   ],
   "source": [
    "print(\"copy past\")"
   ]
  },
  {
   "cell_type": "code",
   "execution_count": null,
   "id": "909147a6",
   "metadata": {},
   "outputs": [],
   "source": []
  }
 ],
 "metadata": {
  "kernelspec": {
   "display_name": "Python 3 (ipykernel)",
   "language": "python",
   "name": "python3"
  },
  "language_info": {
   "codemirror_mode": {
    "name": "ipython",
    "version": 3
   },
   "file_extension": ".py",
   "mimetype": "text/x-python",
   "name": "python",
   "nbconvert_exporter": "python",
   "pygments_lexer": "ipython3",
   "version": "3.10.9"
  }
 },
 "nbformat": 4,
 "nbformat_minor": 5
}
